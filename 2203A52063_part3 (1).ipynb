{
  "nbformat": 4,
  "nbformat_minor": 0,
  "metadata": {
    "colab": {
      "provenance": []
    },
    "kernelspec": {
      "name": "python3",
      "display_name": "Python 3"
    },
    "language_info": {
      "name": "python"
    }
  },
  "cells": [
    {
      "cell_type": "code",
      "execution_count": 6,
      "metadata": {
        "colab": {
          "base_uri": "https://localhost:8080/"
        },
        "id": "aOsNM9HkUXwl",
        "outputId": "3c876e73-2578-40eb-ef8c-6e2bede0fcf4"
      },
      "outputs": [
        {
          "output_type": "stream",
          "name": "stdout",
          "text": [
            "Data from Excel:\n",
            "   Table 1  Unnamed: 1 Unnamed: 2\n",
            "0     name        Htno    Surname\n",
            "1  Lakshmi  2203A52230          N\n",
            "2   Sravan  2203A52099          L\n",
            "3  Niyathi  2203A51038          B\n",
            "4    Navya  2203A52057          N\n",
            "\n",
            "Data from CSV:\n",
            "    Table 1  Unnamed: 1 Unnamed: 2  Unnamed: 3  Unnamed: 4  Unnamed: 5\n",
            "0      name        Htno    Surname         NaN         NaN         NaN\n",
            "1   Lakshmi  2203A52230          N         NaN         NaN         NaN\n",
            "2    Sravan  2203A52099          L         NaN         NaN         NaN\n",
            "3   Niyathi  2203A51038          B         NaN         NaN         NaN\n",
            "4     Navya  2203A52057          N         NaN         NaN         NaN\n",
            "5       NaN         NaN        NaN         NaN         NaN         NaN\n",
            "6       NaN         NaN        NaN         NaN         NaN         NaN\n",
            "7       NaN         NaN        NaN         NaN         NaN         NaN\n",
            "8       NaN         NaN        NaN         NaN         NaN         NaN\n",
            "9       NaN         NaN        NaN         NaN         NaN         NaN\n",
            "10      NaN         NaN        NaN         NaN         NaN         NaN\n",
            "11      NaN         NaN        NaN         NaN         NaN         NaN\n",
            "12      NaN         NaN        NaN         NaN         NaN         NaN\n",
            "13      NaN         NaN        NaN         NaN         NaN         NaN\n",
            "14      NaN         NaN        NaN         NaN         NaN         NaN\n",
            "15      NaN         NaN        NaN         NaN         NaN         NaN\n",
            "16      NaN         NaN        NaN         NaN         NaN         NaN\n",
            "17      NaN         NaN        NaN         NaN         NaN         NaN\n",
            "18      NaN         NaN        NaN         NaN         NaN         NaN\n",
            "19      NaN         NaN        NaN         NaN         NaN         NaN\n",
            "20      NaN         NaN        NaN         NaN         NaN         NaN\n",
            "21      NaN         NaN        NaN         NaN         NaN         NaN\n",
            "\n",
            "Data from TSV:\n",
            "      name        Htno Surname  Unnamed: 3  Unnamed: 4  Unnamed: 5\n",
            "0  Lakshmi  2203A52230       N         NaN         NaN         NaN\n",
            "1   Sravan  2203A52099       L         NaN         NaN         NaN\n",
            "2  Niyathi  2203A51038       B         NaN         NaN         NaN\n",
            "3    Navya  2203A52057       N         NaN         NaN         NaN\n",
            "\n",
            "Data from URL:\n",
            "    Table 1  Unnamed: 1 Unnamed: 2  Unnamed: 3  Unnamed: 4  Unnamed: 5\n",
            "0      name        Htno    Surname         NaN         NaN         NaN\n",
            "1   Lakshmi  2203A52230          N         NaN         NaN         NaN\n",
            "2    Sravan  2203A52099          L         NaN         NaN         NaN\n",
            "3   Niyathi  2203A51038          B         NaN         NaN         NaN\n",
            "4     Navya  2203A52057          N         NaN         NaN         NaN\n",
            "5       NaN         NaN        NaN         NaN         NaN         NaN\n",
            "6       NaN         NaN        NaN         NaN         NaN         NaN\n",
            "7       NaN         NaN        NaN         NaN         NaN         NaN\n",
            "8       NaN         NaN        NaN         NaN         NaN         NaN\n",
            "9       NaN         NaN        NaN         NaN         NaN         NaN\n",
            "10      NaN         NaN        NaN         NaN         NaN         NaN\n",
            "11      NaN         NaN        NaN         NaN         NaN         NaN\n",
            "12      NaN         NaN        NaN         NaN         NaN         NaN\n",
            "13      NaN         NaN        NaN         NaN         NaN         NaN\n",
            "14      NaN         NaN        NaN         NaN         NaN         NaN\n",
            "15      NaN         NaN        NaN         NaN         NaN         NaN\n",
            "16      NaN         NaN        NaN         NaN         NaN         NaN\n",
            "17      NaN         NaN        NaN         NaN         NaN         NaN\n",
            "18      NaN         NaN        NaN         NaN         NaN         NaN\n",
            "19      NaN         NaN        NaN         NaN         NaN         NaN\n",
            "20      NaN         NaN        NaN         NaN         NaN         NaN\n",
            "21      NaN         NaN        NaN         NaN         NaN         NaN\n"
          ]
        }
      ],
      "source": [
        "import pandas as pd\n",
        "\n",
        "# Read Excel file\n",
        "data_excel = pd.read_excel('/content/2203A52099.xlsx')\n",
        "\n",
        "# Read CSV file\n",
        "data_csv = pd.read_csv('/content/2203A52099.csv')\n",
        "\n",
        "# Read TSV file (Tab-separated values)\n",
        "data_tsv = pd.read_csv('/content/2203A52099.tsv', sep='\\t')\n",
        "\n",
        "print(\"Data from Excel:\")\n",
        "print(data_excel)\n",
        "\n",
        "print(\"\\nData from CSV:\")\n",
        "print(data_csv)\n",
        "\n",
        "print(\"\\nData from TSV:\")\n",
        "print(data_tsv)\n",
        "\n",
        "# Read data from URL (GitHub raw content)\n",
        "url = 'https://raw.githubusercontent.com/2203A52099/2203A53099_AIML/main/2203A52099.csv'\n",
        "df_url = pd.read_csv(url)\n",
        "print(\"\\nData from URL:\")\n",
        "print(df_url)\n"
      ]
    }
  ]
}