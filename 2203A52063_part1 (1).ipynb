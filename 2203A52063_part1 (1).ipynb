{
  "nbformat": 4,
  "nbformat_minor": 0,
  "metadata": {
    "colab": {
      "provenance": []
    },
    "kernelspec": {
      "name": "python3",
      "display_name": "Python 3"
    },
    "language_info": {
      "name": "python"
    }
  },
  "cells": [
    {
      "cell_type": "code",
      "source": [
        "import numpy as np\n",
        "import pandas as pd\n",
        "\n",
        "# 1. Lists\n",
        "list_data1 = [1, 2, 3, 4, 5]\n",
        "list_data2 = [6, 7, 8, 9, 10]\n",
        "\n",
        "# 2. Arrays (NumPy arrays)\n",
        "array_data1 = np.array(list_data1)\n",
        "array_data2 = np.array(list_data2)\n",
        "\n",
        "# 3. Identify their type using type()\n",
        "print(\"Type of list_data1:\", type(list_data1))\n",
        "print(\"Type of array_data1:\", type(array_data1))\n",
        "\n",
        "# 4. Perform mathematical operations\n",
        "result_multiply = array_data1 * array_data2\n",
        "result_divide = array_data2 / array_data1\n",
        "result_power = np.power(array_data1, 2)\n",
        "\n",
        "# 5. Combine text with NumPy function\n",
        "text_output = f\"Addition of Two:\\n{array_data1} + {array_data2} = {array_data1 + array_data2}\"\n",
        "\n",
        "# 6. Implement np.sin(), log(), log2(), np.exp())\n",
        "result_sin = np.sin(array_data1)\n",
        "result_log = np.log(array_data1)\n",
        "result_log2 = np.log2(array_data1)\n",
        "result_exp = np.exp(array_data1)\n",
        "\n",
        "# Displaying results\n",
        "print(\"\\nResults:\")\n",
        "print(\"Multiplication:\", result_multiply)\n",
        "print(\"Division:\", result_divide)\n",
        "print(\"Power of 2:\", result_power)\n",
        "print(\"\\nText Output:\")\n",
        "print(text_output)\n",
        "print(\"\\nTrigonometric Functions:\")\n",
        "print(\"Sin:\", result_sin)\n",
        "print(\"Logarithm:\", result_log)\n",
        "print(\"Log2:\", result_log2)\n",
        "print(\"Exponential:\", result_exp)\n"
      ],
      "metadata": {
        "colab": {
          "base_uri": "https://localhost:8080/"
        },
        "id": "l4zKqRUYYMK7",
        "outputId": "59f2cd07-d1f2-417f-f1ba-a30ec1c4abac"
      },
      "execution_count": 6,
      "outputs": [
        {
          "output_type": "stream",
          "name": "stdout",
          "text": [
            "Type of list_data1: <class 'list'>\n",
            "Type of array_data1: <class 'numpy.ndarray'>\n",
            "\n",
            "Results:\n",
            "Multiplication: [ 6 14 24 36 50]\n",
            "Division: [6.         3.5        2.66666667 2.25       2.        ]\n",
            "Power of 2: [ 1  4  9 16 25]\n",
            "\n",
            "Text Output:\n",
            "Addition of Two:\n",
            "[1 2 3 4 5] + [ 6  7  8  9 10] = [ 7  9 11 13 15]\n",
            "\n",
            "Trigonometric Functions:\n",
            "Sin: [ 0.84147098  0.90929743  0.14112001 -0.7568025  -0.95892427]\n",
            "Logarithm: [0.         0.69314718 1.09861229 1.38629436 1.60943791]\n",
            "Log2: [0.         1.         1.5849625  2.         2.32192809]\n",
            "Exponential: [  2.71828183   7.3890561   20.08553692  54.59815003 148.4131591 ]\n"
          ]
        }
      ]
    }
  ]
}